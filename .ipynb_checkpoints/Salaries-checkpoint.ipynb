{
 "cells": [
  {
   "cell_type": "code",
   "execution_count": 278,
   "id": "20f06ae0",
   "metadata": {},
   "outputs": [],
   "source": [
    "import pandas as pd\n",
    "import numpy as np\n",
    "import matplotlib.pyplot as plt\n",
    "import seaborn as sns\n"
   ]
  },
  {
   "cell_type": "code",
   "execution_count": 279,
   "id": "541fa492",
   "metadata": {},
   "outputs": [],
   "source": [
    "df= pd.read_excel(\"Salary Dataset.xlsx\")"
   ]
  },
  {
   "cell_type": "code",
   "execution_count": 280,
   "id": "601bd97d",
   "metadata": {},
   "outputs": [
    {
     "data": {
      "text/html": [
       "<div>\n",
       "<style scoped>\n",
       "    .dataframe tbody tr th:only-of-type {\n",
       "        vertical-align: middle;\n",
       "    }\n",
       "\n",
       "    .dataframe tbody tr th {\n",
       "        vertical-align: top;\n",
       "    }\n",
       "\n",
       "    .dataframe thead th {\n",
       "        text-align: right;\n",
       "    }\n",
       "</style>\n",
       "<table border=\"1\" class=\"dataframe\">\n",
       "  <thead>\n",
       "    <tr style=\"text-align: right;\">\n",
       "      <th></th>\n",
       "      <th>Company Name</th>\n",
       "      <th>Job Title</th>\n",
       "      <th>Sample Volunteers Reported</th>\n",
       "      <th>Location</th>\n",
       "      <th>Salary</th>\n",
       "    </tr>\n",
       "  </thead>\n",
       "  <tbody>\n",
       "    <tr>\n",
       "      <th>0</th>\n",
       "      <td>Mu Sigma</td>\n",
       "      <td>Data Scientist</td>\n",
       "      <td>105.0</td>\n",
       "      <td>Bangalore</td>\n",
       "      <td>6,48,573/yr</td>\n",
       "    </tr>\n",
       "    <tr>\n",
       "      <th>1</th>\n",
       "      <td>IBM</td>\n",
       "      <td>Data Scientist</td>\n",
       "      <td>95.0</td>\n",
       "      <td>Bangalore</td>\n",
       "      <td>11,91,950/yr</td>\n",
       "    </tr>\n",
       "    <tr>\n",
       "      <th>2</th>\n",
       "      <td>Tata Consultancy Services</td>\n",
       "      <td>Data Scientist</td>\n",
       "      <td>66.0</td>\n",
       "      <td>Bangalore</td>\n",
       "      <td>8,36,874/yr</td>\n",
       "    </tr>\n",
       "    <tr>\n",
       "      <th>3</th>\n",
       "      <td>Impact Analytics</td>\n",
       "      <td>Data Scientist</td>\n",
       "      <td>40.0</td>\n",
       "      <td>Bangalore</td>\n",
       "      <td>6,69,578/yr</td>\n",
       "    </tr>\n",
       "    <tr>\n",
       "      <th>4</th>\n",
       "      <td>Accenture</td>\n",
       "      <td>Data Scientist</td>\n",
       "      <td>32.0</td>\n",
       "      <td>Bangalore</td>\n",
       "      <td>9,44,110/yr</td>\n",
       "    </tr>\n",
       "  </tbody>\n",
       "</table>\n",
       "</div>"
      ],
      "text/plain": [
       "                Company Name       Job Title  Sample Volunteers Reported  \\\n",
       "0                   Mu Sigma  Data Scientist                       105.0   \n",
       "1                        IBM  Data Scientist                        95.0   \n",
       "2  Tata Consultancy Services  Data Scientist                        66.0   \n",
       "3           Impact Analytics  Data Scientist                        40.0   \n",
       "4                  Accenture  Data Scientist                        32.0   \n",
       "\n",
       "    Location        Salary  \n",
       "0  Bangalore   6,48,573/yr  \n",
       "1  Bangalore  11,91,950/yr  \n",
       "2  Bangalore   8,36,874/yr  \n",
       "3  Bangalore   6,69,578/yr  \n",
       "4  Bangalore   9,44,110/yr  "
      ]
     },
     "execution_count": 280,
     "metadata": {},
     "output_type": "execute_result"
    }
   ],
   "source": [
    "df.head()"
   ]
  },
  {
   "cell_type": "code",
   "execution_count": 281,
   "id": "7d466dbb",
   "metadata": {},
   "outputs": [
    {
     "data": {
      "text/plain": [
       "(4344, 5)"
      ]
     },
     "execution_count": 281,
     "metadata": {},
     "output_type": "execute_result"
    }
   ],
   "source": [
    "df.shape"
   ]
  },
  {
   "cell_type": "code",
   "execution_count": 282,
   "id": "2d14ec4d",
   "metadata": {},
   "outputs": [
    {
     "data": {
      "text/html": [
       "<div>\n",
       "<style scoped>\n",
       "    .dataframe tbody tr th:only-of-type {\n",
       "        vertical-align: middle;\n",
       "    }\n",
       "\n",
       "    .dataframe tbody tr th {\n",
       "        vertical-align: top;\n",
       "    }\n",
       "\n",
       "    .dataframe thead th {\n",
       "        text-align: right;\n",
       "    }\n",
       "</style>\n",
       "<table border=\"1\" class=\"dataframe\">\n",
       "  <thead>\n",
       "    <tr style=\"text-align: right;\">\n",
       "      <th></th>\n",
       "      <th>Job Title</th>\n",
       "      <th>Location</th>\n",
       "    </tr>\n",
       "  </thead>\n",
       "  <tbody>\n",
       "    <tr>\n",
       "      <th>0</th>\n",
       "      <td>Data Scientist</td>\n",
       "      <td>Bangalore</td>\n",
       "    </tr>\n",
       "    <tr>\n",
       "      <th>1</th>\n",
       "      <td>Data Scientist</td>\n",
       "      <td>Bangalore</td>\n",
       "    </tr>\n",
       "    <tr>\n",
       "      <th>2</th>\n",
       "      <td>Data Scientist</td>\n",
       "      <td>Bangalore</td>\n",
       "    </tr>\n",
       "    <tr>\n",
       "      <th>3</th>\n",
       "      <td>Data Scientist</td>\n",
       "      <td>Bangalore</td>\n",
       "    </tr>\n",
       "    <tr>\n",
       "      <th>4</th>\n",
       "      <td>Data Scientist</td>\n",
       "      <td>Bangalore</td>\n",
       "    </tr>\n",
       "  </tbody>\n",
       "</table>\n",
       "</div>"
      ],
      "text/plain": [
       "        Job Title   Location\n",
       "0  Data Scientist  Bangalore\n",
       "1  Data Scientist  Bangalore\n",
       "2  Data Scientist  Bangalore\n",
       "3  Data Scientist  Bangalore\n",
       "4  Data Scientist  Bangalore"
      ]
     },
     "execution_count": 282,
     "metadata": {},
     "output_type": "execute_result"
    }
   ],
   "source": [
    "X=df.loc[:, ['Job Title','Location']]\n",
    "X.head()"
   ]
  },
  {
   "cell_type": "code",
   "execution_count": 283,
   "id": "80ec97b3",
   "metadata": {},
   "outputs": [
    {
     "data": {
      "text/html": [
       "<div>\n",
       "<style scoped>\n",
       "    .dataframe tbody tr th:only-of-type {\n",
       "        vertical-align: middle;\n",
       "    }\n",
       "\n",
       "    .dataframe tbody tr th {\n",
       "        vertical-align: top;\n",
       "    }\n",
       "\n",
       "    .dataframe thead th {\n",
       "        text-align: right;\n",
       "    }\n",
       "</style>\n",
       "<table border=\"1\" class=\"dataframe\">\n",
       "  <thead>\n",
       "    <tr style=\"text-align: right;\">\n",
       "      <th></th>\n",
       "      <th>Salary</th>\n",
       "    </tr>\n",
       "  </thead>\n",
       "  <tbody>\n",
       "    <tr>\n",
       "      <th>0</th>\n",
       "      <td>6,48,573/yr</td>\n",
       "    </tr>\n",
       "    <tr>\n",
       "      <th>1</th>\n",
       "      <td>11,91,950/yr</td>\n",
       "    </tr>\n",
       "    <tr>\n",
       "      <th>2</th>\n",
       "      <td>8,36,874/yr</td>\n",
       "    </tr>\n",
       "    <tr>\n",
       "      <th>3</th>\n",
       "      <td>6,69,578/yr</td>\n",
       "    </tr>\n",
       "    <tr>\n",
       "      <th>4</th>\n",
       "      <td>9,44,110/yr</td>\n",
       "    </tr>\n",
       "  </tbody>\n",
       "</table>\n",
       "</div>"
      ],
      "text/plain": [
       "         Salary\n",
       "0   6,48,573/yr\n",
       "1  11,91,950/yr\n",
       "2   8,36,874/yr\n",
       "3   6,69,578/yr\n",
       "4   9,44,110/yr"
      ]
     },
     "execution_count": 283,
     "metadata": {},
     "output_type": "execute_result"
    }
   ],
   "source": [
    "Y=df.loc[:,['Salary']]\n",
    "Y.head()"
   ]
  },
  {
   "cell_type": "code",
   "execution_count": 284,
   "id": "d95e3d6f",
   "metadata": {},
   "outputs": [
    {
     "data": {
      "text/plain": [
       "array(['Associate Machine Learning Engineer', 'Data Analyst',\n",
       "       'Data Engineer', 'Data Science', 'Data Science Associate',\n",
       "       'Data Science Consultant', 'Data Science Lead',\n",
       "       'Data Science Manager', 'Data Scientist',\n",
       "       'Data Scientist - Trainee', 'Junior Data Scientist',\n",
       "       'Lead Data Scientist', 'Machine Learning Associate',\n",
       "       'Machine Learning Consultant', 'Machine Learning Data Analyst',\n",
       "       'Machine Learning Data Associate',\n",
       "       'Machine Learning Data Associate I',\n",
       "       'Machine Learning Data Associate II', 'Machine Learning Developer',\n",
       "       'Machine Learning Engineer',\n",
       "       'Machine Learning Engineer/Data Scientist',\n",
       "       'Machine Learning Scientist', 'Machine Learning Software Engineer',\n",
       "       'Senior Data Scientist', 'Senior Machine Learning Engineer',\n",
       "       'Software Engineer - Machine Learning'], dtype=object)"
      ]
     },
     "execution_count": 284,
     "metadata": {},
     "output_type": "execute_result"
    }
   ],
   "source": [
    "np.unique(df[['Job Title']].values)"
   ]
  },
  {
   "cell_type": "code",
   "execution_count": 285,
   "id": "ded574d3",
   "metadata": {},
   "outputs": [
    {
     "data": {
      "text/plain": [
       "array(['Bangalore', 'Hyderabad', 'Mumbai', 'New Delhi', 'Pune'],\n",
       "      dtype=object)"
      ]
     },
     "execution_count": 285,
     "metadata": {},
     "output_type": "execute_result"
    }
   ],
   "source": [
    "np.unique(df[['Location']].values)"
   ]
  },
  {
   "cell_type": "code",
   "execution_count": 286,
   "id": "4483b523",
   "metadata": {},
   "outputs": [
    {
     "name": "stdout",
     "output_type": "stream",
     "text": [
      "<class 'pandas.core.frame.DataFrame'>\n",
      "RangeIndex: 4344 entries, 0 to 4343\n",
      "Data columns (total 5 columns):\n",
      " #   Column                      Non-Null Count  Dtype  \n",
      "---  ------                      --------------  -----  \n",
      " 0   Company Name                4341 non-null   object \n",
      " 1   Job Title                   4344 non-null   object \n",
      " 2   Sample Volunteers Reported  4342 non-null   float64\n",
      " 3   Location                    4344 non-null   object \n",
      " 4   Salary                      4344 non-null   object \n",
      "dtypes: float64(1), object(4)\n",
      "memory usage: 169.8+ KB\n"
     ]
    }
   ],
   "source": [
    "df.info()"
   ]
  },
  {
   "cell_type": "code",
   "execution_count": 287,
   "id": "dac17d8e",
   "metadata": {},
   "outputs": [
    {
     "data": {
      "text/html": [
       "<div>\n",
       "<style scoped>\n",
       "    .dataframe tbody tr th:only-of-type {\n",
       "        vertical-align: middle;\n",
       "    }\n",
       "\n",
       "    .dataframe tbody tr th {\n",
       "        vertical-align: top;\n",
       "    }\n",
       "\n",
       "    .dataframe thead th {\n",
       "        text-align: right;\n",
       "    }\n",
       "</style>\n",
       "<table border=\"1\" class=\"dataframe\">\n",
       "  <thead>\n",
       "    <tr style=\"text-align: right;\">\n",
       "      <th></th>\n",
       "      <th>Company Name</th>\n",
       "      <th>Job Title</th>\n",
       "      <th>Salary</th>\n",
       "    </tr>\n",
       "  </thead>\n",
       "  <tbody>\n",
       "    <tr>\n",
       "      <th>count</th>\n",
       "      <td>4341</td>\n",
       "      <td>4344</td>\n",
       "      <td>4344</td>\n",
       "    </tr>\n",
       "    <tr>\n",
       "      <th>unique</th>\n",
       "      <td>2529</td>\n",
       "      <td>26</td>\n",
       "      <td>3101</td>\n",
       "    </tr>\n",
       "    <tr>\n",
       "      <th>top</th>\n",
       "      <td>Tata Consultancy Services</td>\n",
       "      <td>Data Scientist</td>\n",
       "      <td>12,00,000/yr</td>\n",
       "    </tr>\n",
       "    <tr>\n",
       "      <th>freq</th>\n",
       "      <td>41</td>\n",
       "      <td>1844</td>\n",
       "      <td>24</td>\n",
       "    </tr>\n",
       "  </tbody>\n",
       "</table>\n",
       "</div>"
      ],
      "text/plain": [
       "                     Company Name       Job Title        Salary\n",
       "count                        4341            4344          4344\n",
       "unique                       2529              26          3101\n",
       "top     Tata Consultancy Services  Data Scientist  12,00,000/yr\n",
       "freq                           41            1844            24"
      ]
     },
     "execution_count": 287,
     "metadata": {},
     "output_type": "execute_result"
    }
   ],
   "source": [
    "df[['Company Name', 'Job Title','Salary']].describe()"
   ]
  },
  {
   "cell_type": "code",
   "execution_count": 288,
   "id": "6f7bfd79",
   "metadata": {},
   "outputs": [
    {
     "data": {
      "text/plain": [
       "Company Name                  0\n",
       "Job Title                     0\n",
       "Sample Volunteers Reported    0\n",
       "Location                      0\n",
       "Salary                        0\n",
       "dtype: int64"
      ]
     },
     "execution_count": 288,
     "metadata": {},
     "output_type": "execute_result"
    }
   ],
   "source": [
    "df.isin(['?']).sum(axis=0)"
   ]
  },
  {
   "cell_type": "code",
   "execution_count": 289,
   "id": "3e31ab6c",
   "metadata": {},
   "outputs": [
    {
     "data": {
      "text/html": [
       "<div>\n",
       "<style scoped>\n",
       "    .dataframe tbody tr th:only-of-type {\n",
       "        vertical-align: middle;\n",
       "    }\n",
       "\n",
       "    .dataframe tbody tr th {\n",
       "        vertical-align: top;\n",
       "    }\n",
       "\n",
       "    .dataframe thead th {\n",
       "        text-align: right;\n",
       "    }\n",
       "</style>\n",
       "<table border=\"1\" class=\"dataframe\">\n",
       "  <thead>\n",
       "    <tr style=\"text-align: right;\">\n",
       "      <th></th>\n",
       "      <th>Company Name</th>\n",
       "      <th>Job Title</th>\n",
       "      <th>Sample Volunteers Reported</th>\n",
       "      <th>Location</th>\n",
       "      <th>Salary</th>\n",
       "    </tr>\n",
       "  </thead>\n",
       "  <tbody>\n",
       "    <tr>\n",
       "      <th>0</th>\n",
       "      <td>Mu Sigma</td>\n",
       "      <td>Data Scientist</td>\n",
       "      <td>105.0</td>\n",
       "      <td>Bangalore</td>\n",
       "      <td>6,48,573/yr</td>\n",
       "    </tr>\n",
       "    <tr>\n",
       "      <th>1</th>\n",
       "      <td>IBM</td>\n",
       "      <td>Data Scientist</td>\n",
       "      <td>95.0</td>\n",
       "      <td>Bangalore</td>\n",
       "      <td>11,91,950/yr</td>\n",
       "    </tr>\n",
       "    <tr>\n",
       "      <th>2</th>\n",
       "      <td>Tata Consultancy Services</td>\n",
       "      <td>Data Scientist</td>\n",
       "      <td>66.0</td>\n",
       "      <td>Bangalore</td>\n",
       "      <td>8,36,874/yr</td>\n",
       "    </tr>\n",
       "    <tr>\n",
       "      <th>3</th>\n",
       "      <td>Impact Analytics</td>\n",
       "      <td>Data Scientist</td>\n",
       "      <td>40.0</td>\n",
       "      <td>Bangalore</td>\n",
       "      <td>6,69,578/yr</td>\n",
       "    </tr>\n",
       "    <tr>\n",
       "      <th>4</th>\n",
       "      <td>Accenture</td>\n",
       "      <td>Data Scientist</td>\n",
       "      <td>32.0</td>\n",
       "      <td>Bangalore</td>\n",
       "      <td>9,44,110/yr</td>\n",
       "    </tr>\n",
       "    <tr>\n",
       "      <th>...</th>\n",
       "      <td>...</td>\n",
       "      <td>...</td>\n",
       "      <td>...</td>\n",
       "      <td>...</td>\n",
       "      <td>...</td>\n",
       "    </tr>\n",
       "    <tr>\n",
       "      <th>4339</th>\n",
       "      <td>TaiyÅAI</td>\n",
       "      <td>Machine Learning Scientist</td>\n",
       "      <td>1.0</td>\n",
       "      <td>Mumbai</td>\n",
       "      <td>5,180/mo</td>\n",
       "    </tr>\n",
       "    <tr>\n",
       "      <th>4340</th>\n",
       "      <td>Decimal Point Analytics</td>\n",
       "      <td>Machine Learning Developer</td>\n",
       "      <td>1.0</td>\n",
       "      <td>Mumbai</td>\n",
       "      <td>7,51,286/yr</td>\n",
       "    </tr>\n",
       "    <tr>\n",
       "      <th>4341</th>\n",
       "      <td>MyWays</td>\n",
       "      <td>Machine Learning Developer</td>\n",
       "      <td>1.0</td>\n",
       "      <td>Mumbai</td>\n",
       "      <td>4,10,952/yr</td>\n",
       "    </tr>\n",
       "    <tr>\n",
       "      <th>4342</th>\n",
       "      <td>Market Pulse Technologies</td>\n",
       "      <td>Software Engineer - Machine Learning</td>\n",
       "      <td>1.0</td>\n",
       "      <td>Mumbai</td>\n",
       "      <td>16,12,324/yr</td>\n",
       "    </tr>\n",
       "    <tr>\n",
       "      <th>4343</th>\n",
       "      <td>vPhrase</td>\n",
       "      <td>Machine Learning Engineer</td>\n",
       "      <td>1.0</td>\n",
       "      <td>Mumbai</td>\n",
       "      <td>9,39,843/yr</td>\n",
       "    </tr>\n",
       "  </tbody>\n",
       "</table>\n",
       "<p>4344 rows × 5 columns</p>\n",
       "</div>"
      ],
      "text/plain": [
       "                   Company Name                             Job Title  \\\n",
       "0                      Mu Sigma                        Data Scientist   \n",
       "1                           IBM                        Data Scientist   \n",
       "2     Tata Consultancy Services                        Data Scientist   \n",
       "3              Impact Analytics                        Data Scientist   \n",
       "4                     Accenture                        Data Scientist   \n",
       "...                         ...                                   ...   \n",
       "4339                   TaiyÅAI            Machine Learning Scientist   \n",
       "4340    Decimal Point Analytics            Machine Learning Developer   \n",
       "4341                     MyWays            Machine Learning Developer   \n",
       "4342  Market Pulse Technologies  Software Engineer - Machine Learning   \n",
       "4343                    vPhrase             Machine Learning Engineer   \n",
       "\n",
       "      Sample Volunteers Reported   Location        Salary  \n",
       "0                          105.0  Bangalore   6,48,573/yr  \n",
       "1                           95.0  Bangalore  11,91,950/yr  \n",
       "2                           66.0  Bangalore   8,36,874/yr  \n",
       "3                           40.0  Bangalore   6,69,578/yr  \n",
       "4                           32.0  Bangalore   9,44,110/yr  \n",
       "...                          ...        ...           ...  \n",
       "4339                         1.0     Mumbai      5,180/mo  \n",
       "4340                         1.0     Mumbai   7,51,286/yr  \n",
       "4341                         1.0     Mumbai   4,10,952/yr  \n",
       "4342                         1.0     Mumbai  16,12,324/yr  \n",
       "4343                         1.0     Mumbai   9,39,843/yr  \n",
       "\n",
       "[4344 rows x 5 columns]"
      ]
     },
     "metadata": {},
     "output_type": "display_data"
    }
   ],
   "source": [
    "display(df)"
   ]
  },
  {
   "cell_type": "code",
   "execution_count": 290,
   "id": "6f8b34c6",
   "metadata": {},
   "outputs": [
    {
     "data": {
      "text/plain": [
       "Data Scientist                              1844\n",
       "Data Analyst                                 990\n",
       "Data Engineer                                805\n",
       "Machine Learning Engineer                    568\n",
       "Data Science                                  43\n",
       "Senior Data Scientist                         39\n",
       "Junior Data Scientist                         18\n",
       "Senior Machine Learning Engineer               9\n",
       "Lead Data Scientist                            6\n",
       "Machine Learning Data Associate II             2\n",
       "Machine Learning Consultant                    2\n",
       "Machine Learning Developer                     2\n",
       "Machine Learning Scientist                     2\n",
       "Software Engineer - Machine Learning           2\n",
       "Data Science Associate                         1\n",
       "Machine Learning Engineer/Data Scientist       1\n",
       "Data Science Lead                              1\n",
       "Machine Learning Data Associate                1\n",
       "Machine Learning Data Associate I              1\n",
       "Machine Learning Associate                     1\n",
       "Data Scientist - Trainee                       1\n",
       "Associate Machine Learning Engineer            1\n",
       "Machine Learning Data Analyst                  1\n",
       "Data Science Manager                           1\n",
       "Data Science Consultant                        1\n",
       "Machine Learning Software Engineer             1\n",
       "Name: Job Title, dtype: int64"
      ]
     },
     "execution_count": 290,
     "metadata": {},
     "output_type": "execute_result"
    }
   ],
   "source": [
    "df['Job Title'].value_counts().nlargest(30)"
   ]
  },
  {
   "cell_type": "code",
   "execution_count": 291,
   "id": "3d238d23",
   "metadata": {},
   "outputs": [
    {
     "data": {
      "text/plain": [
       "other    4271\n",
       "sr         55\n",
       "jr         18\n",
       "Name: job_seniority, dtype: int64"
      ]
     },
     "execution_count": 291,
     "metadata": {},
     "output_type": "execute_result"
    }
   ],
   "source": [
    "def title_seniority(title):\n",
    "    if 'sr.' in title.lower() or 'senior' in title.lower() or 'lead' in title.lower() or 'principal' in title.lower():\n",
    "            return 'sr'\n",
    "    elif 'junior' in title.lower() or 'jr.' in title.lower():\n",
    "        return 'jr'\n",
    "    else:\n",
    "        return 'other'\n",
    "\n",
    "df['job_seniority'] = df['Job Title'].apply(title_seniority)\n",
    "df['job_seniority'].value_counts()"
   ]
  },
  {
   "cell_type": "code",
   "execution_count": 292,
   "id": "3f6390ee",
   "metadata": {},
   "outputs": [
    {
     "data": {
      "text/plain": [
       "0        6,48,573/yr\n",
       "1       11,91,950/yr\n",
       "2        8,36,874/yr\n",
       "3        6,69,578/yr\n",
       "4        9,44,110/yr\n",
       "            ...     \n",
       "4339        5,180/mo\n",
       "4340     7,51,286/yr\n",
       "4341     4,10,952/yr\n",
       "4342    16,12,324/yr\n",
       "4343     9,39,843/yr\n",
       "Name: Salary, Length: 4344, dtype: object"
      ]
     },
     "execution_count": 292,
     "metadata": {},
     "output_type": "execute_result"
    }
   ],
   "source": [
    "salary = df['Salary'].apply(lambda x: x.split(\"(\")[0])\n",
    "salary"
   ]
  },
  {
   "cell_type": "code",
   "execution_count": 293,
   "id": "dfa0a6ec",
   "metadata": {},
   "outputs": [
    {
     "name": "stdout",
     "output_type": "stream",
     "text": [
      "Length of Salary:  3101\n"
     ]
    },
    {
     "data": {
      "text/plain": [
       "array(['85,643/mo', '42,82,144/yr', '13,81,355/yr', ..., '7,51,286/yr',\n",
       "       '4,10,952/yr', '9,39,843/yr'], dtype=object)"
      ]
     },
     "execution_count": 293,
     "metadata": {},
     "output_type": "execute_result"
    }
   ],
   "source": [
    "print(\"Length of Salary: \",len(salary.unique()))\n",
    "salary.unique()[450:]"
   ]
  },
  {
   "cell_type": "code",
   "execution_count": 294,
   "id": "45e16870",
   "metadata": {},
   "outputs": [
    {
     "data": {
      "text/plain": [
       "array([',', '1', '6', '3', '4', '5', '2', '7', '0', '8', '9', '£', 'F'],\n",
       "      dtype=object)"
      ]
     },
     "execution_count": 294,
     "metadata": {},
     "output_type": "execute_result"
    }
   ],
   "source": [
    "df['Salary'].apply(lambda x : x[1]).unique()"
   ]
  },
  {
   "cell_type": "code",
   "execution_count": 300,
   "id": "4b8c1e82",
   "metadata": {},
   "outputs": [
    {
     "data": {
      "text/html": [
       "<div>\n",
       "<style scoped>\n",
       "    .dataframe tbody tr th:only-of-type {\n",
       "        vertical-align: middle;\n",
       "    }\n",
       "\n",
       "    .dataframe tbody tr th {\n",
       "        vertical-align: top;\n",
       "    }\n",
       "\n",
       "    .dataframe thead th {\n",
       "        text-align: right;\n",
       "    }\n",
       "</style>\n",
       "<table border=\"1\" class=\"dataframe\">\n",
       "  <thead>\n",
       "    <tr style=\"text-align: right;\">\n",
       "      <th></th>\n",
       "      <th>Company Name</th>\n",
       "      <th>Job Title</th>\n",
       "      <th>Sample Volunteers Reported</th>\n",
       "      <th>Location</th>\n",
       "      <th>Salary</th>\n",
       "      <th>job_seniority</th>\n",
       "    </tr>\n",
       "  </thead>\n",
       "  <tbody>\n",
       "    <tr>\n",
       "      <th>585</th>\n",
       "      <td>MiQ</td>\n",
       "      <td>Data Scientist</td>\n",
       "      <td>1.0</td>\n",
       "      <td>Bangalore</td>\n",
       "      <td>Â£16,74,802/yr</td>\n",
       "      <td>other</td>\n",
       "    </tr>\n",
       "    <tr>\n",
       "      <th>1054</th>\n",
       "      <td>Tata Consultancy Services</td>\n",
       "      <td>Data Scientist</td>\n",
       "      <td>1.0</td>\n",
       "      <td>Pune</td>\n",
       "      <td>Â£7,03,427/yr</td>\n",
       "      <td>other</td>\n",
       "    </tr>\n",
       "    <tr>\n",
       "      <th>1070</th>\n",
       "      <td>WNS</td>\n",
       "      <td>Data Scientist</td>\n",
       "      <td>1.0</td>\n",
       "      <td>Pune</td>\n",
       "      <td>Â£2,05,049/yr</td>\n",
       "      <td>other</td>\n",
       "    </tr>\n",
       "    <tr>\n",
       "      <th>1115</th>\n",
       "      <td>Saama Technologies</td>\n",
       "      <td>Data Scientist</td>\n",
       "      <td>1.0</td>\n",
       "      <td>Pune</td>\n",
       "      <td>Â£9,34,857/yr</td>\n",
       "      <td>other</td>\n",
       "    </tr>\n",
       "    <tr>\n",
       "      <th>3285</th>\n",
       "      <td>Datametica</td>\n",
       "      <td>Data Engineer</td>\n",
       "      <td>1.0</td>\n",
       "      <td>Pune</td>\n",
       "      <td>Â£10,15,458/yr</td>\n",
       "      <td>other</td>\n",
       "    </tr>\n",
       "    <tr>\n",
       "      <th>3407</th>\n",
       "      <td>Cognizant Technology Solutions</td>\n",
       "      <td>Data Engineer</td>\n",
       "      <td>1.0</td>\n",
       "      <td>Hyderabad</td>\n",
       "      <td>Â£1,00,000/mo</td>\n",
       "      <td>other</td>\n",
       "    </tr>\n",
       "  </tbody>\n",
       "</table>\n",
       "</div>"
      ],
      "text/plain": [
       "                        Company Name       Job Title  \\\n",
       "585                              MiQ  Data Scientist   \n",
       "1054       Tata Consultancy Services  Data Scientist   \n",
       "1070                             WNS  Data Scientist   \n",
       "1115              Saama Technologies  Data Scientist   \n",
       "3285                      Datametica   Data Engineer   \n",
       "3407  Cognizant Technology Solutions   Data Engineer   \n",
       "\n",
       "      Sample Volunteers Reported   Location          Salary job_seniority  \n",
       "585                          1.0  Bangalore  Â£16,74,802/yr         other  \n",
       "1054                         1.0       Pune   Â£7,03,427/yr         other  \n",
       "1070                         1.0       Pune   Â£2,05,049/yr         other  \n",
       "1115                         1.0       Pune   Â£9,34,857/yr         other  \n",
       "3285                         1.0       Pune  Â£10,15,458/yr         other  \n",
       "3407                         1.0  Hyderabad   Â£1,00,000/mo         other  "
      ]
     },
     "execution_count": 300,
     "metadata": {},
     "output_type": "execute_result"
    }
   ],
   "source": [
    "df[df['Salary'].apply(lambda x : x[1]) == '£']"
   ]
  },
  {
   "cell_type": "code",
   "execution_count": 305,
   "id": "ea0eaa8c",
   "metadata": {},
   "outputs": [
    {
     "data": {
      "text/plain": [
       "0              648573\n",
       "1             1191950\n",
       "2              836874\n",
       "3              669578\n",
       "4              944110\n",
       "            ...      \n",
       "4339    5180 Permonth\n",
       "4340           751286\n",
       "4341           410952\n",
       "4342          1612324\n",
       "4343           939843\n",
       "Name: Salary, Length: 4344, dtype: object"
      ]
     },
     "execution_count": 305,
     "metadata": {},
     "output_type": "execute_result"
    }
   ],
   "source": [
    "salary = salary.apply(lambda x: x if type(x)== type(3.5) else x.replace(',','').replace('/yr', '').replace('/mo', ' Permonth').replace('/hr', ' Perhour').replace('£', '').replace('FN', ''))\n",
    "salary"
   ]
  },
  {
   "cell_type": "code",
   "execution_count": 307,
   "id": "7f87b0d7",
   "metadata": {},
   "outputs": [],
   "source": [
    "def convertsalaryfir(salary):\n",
    "    Currency = salary[0] \n",
    "    freq = salary.split('/')[-1] \n",
    "    csalary = float(salary.split('/')[0][1:].replace(',', '').replace('£', '').replace('FN', ''))\n",
    "    \n",
    "    if Currency=='$':\n",
    "        csalary*=81\n",
    "    elif Currency=='A':\n",
    "        csalary*=0.92\n",
    "    elif Currency=='Â':\n",
    "        csalary*=97\n",
    "    \n",
    "    # converting salary from monthly to yearly\n",
    "    \n",
    "    if freq=='mo':\n",
    "        csalary*=12\n",
    "    elif freq=='hr':\n",
    "        csalary*=1920  # assuming a person works 8 hour a day for 5 days a week; 8*5=40; 40*48=1920\n",
    "\n",
    "    return salary\n",
    "    \n",
    "        "
   ]
  },
  {
   "cell_type": "code",
   "execution_count": 308,
   "id": "3519dd06",
   "metadata": {},
   "outputs": [
    {
     "ename": "ValueError",
     "evalue": "could not convert string to float: '£1674802'",
     "output_type": "error",
     "traceback": [
      "\u001b[1;31m---------------------------------------------------------------------------\u001b[0m",
      "\u001b[1;31mValueError\u001b[0m                                Traceback (most recent call last)",
      "Input \u001b[1;32mIn [308]\u001b[0m, in \u001b[0;36m<module>\u001b[1;34m\u001b[0m\n\u001b[1;32m----> 1\u001b[0m df[\u001b[38;5;124m'\u001b[39m\u001b[38;5;124mSalary(in Rs/yr)\u001b[39m\u001b[38;5;124m'\u001b[39m]\u001b[38;5;241m=\u001b[39m \u001b[43mdf\u001b[49m\u001b[43m[\u001b[49m\u001b[38;5;124;43m'\u001b[39;49m\u001b[38;5;124;43mSalary\u001b[39;49m\u001b[38;5;124;43m'\u001b[39;49m\u001b[43m]\u001b[49m\u001b[38;5;241;43m.\u001b[39;49m\u001b[43mapply\u001b[49m\u001b[43m(\u001b[49m\u001b[43mconvertsalary\u001b[49m\u001b[43m)\u001b[49m\n\u001b[0;32m      2\u001b[0m df\u001b[38;5;241m.\u001b[39mdrop(\u001b[38;5;124m'\u001b[39m\u001b[38;5;124mSalary\u001b[39m\u001b[38;5;124m'\u001b[39m, axis\u001b[38;5;241m=\u001b[39m\u001b[38;5;241m1\u001b[39m, inplace\u001b[38;5;241m=\u001b[39m\u001b[38;5;28;01mTrue\u001b[39;00m)\n",
      "File \u001b[1;32m~\\AppData\\Roaming\\Python\\Python310\\site-packages\\pandas\\core\\series.py:4430\u001b[0m, in \u001b[0;36mSeries.apply\u001b[1;34m(self, func, convert_dtype, args, **kwargs)\u001b[0m\n\u001b[0;32m   4320\u001b[0m \u001b[38;5;28;01mdef\u001b[39;00m \u001b[38;5;21mapply\u001b[39m(\n\u001b[0;32m   4321\u001b[0m     \u001b[38;5;28mself\u001b[39m,\n\u001b[0;32m   4322\u001b[0m     func: AggFuncType,\n\u001b[1;32m   (...)\u001b[0m\n\u001b[0;32m   4325\u001b[0m     \u001b[38;5;241m*\u001b[39m\u001b[38;5;241m*\u001b[39mkwargs,\n\u001b[0;32m   4326\u001b[0m ) \u001b[38;5;241m-\u001b[39m\u001b[38;5;241m>\u001b[39m DataFrame \u001b[38;5;241m|\u001b[39m Series:\n\u001b[0;32m   4327\u001b[0m     \u001b[38;5;124;03m\"\"\"\u001b[39;00m\n\u001b[0;32m   4328\u001b[0m \u001b[38;5;124;03m    Invoke function on values of Series.\u001b[39;00m\n\u001b[0;32m   4329\u001b[0m \n\u001b[1;32m   (...)\u001b[0m\n\u001b[0;32m   4428\u001b[0m \u001b[38;5;124;03m    dtype: float64\u001b[39;00m\n\u001b[0;32m   4429\u001b[0m \u001b[38;5;124;03m    \"\"\"\u001b[39;00m\n\u001b[1;32m-> 4430\u001b[0m     \u001b[38;5;28;01mreturn\u001b[39;00m \u001b[43mSeriesApply\u001b[49m\u001b[43m(\u001b[49m\u001b[38;5;28;43mself\u001b[39;49m\u001b[43m,\u001b[49m\u001b[43m \u001b[49m\u001b[43mfunc\u001b[49m\u001b[43m,\u001b[49m\u001b[43m \u001b[49m\u001b[43mconvert_dtype\u001b[49m\u001b[43m,\u001b[49m\u001b[43m \u001b[49m\u001b[43margs\u001b[49m\u001b[43m,\u001b[49m\u001b[43m \u001b[49m\u001b[43mkwargs\u001b[49m\u001b[43m)\u001b[49m\u001b[38;5;241;43m.\u001b[39;49m\u001b[43mapply\u001b[49m\u001b[43m(\u001b[49m\u001b[43m)\u001b[49m\n",
      "File \u001b[1;32m~\\AppData\\Roaming\\Python\\Python310\\site-packages\\pandas\\core\\apply.py:1082\u001b[0m, in \u001b[0;36mSeriesApply.apply\u001b[1;34m(self)\u001b[0m\n\u001b[0;32m   1078\u001b[0m \u001b[38;5;28;01mif\u001b[39;00m \u001b[38;5;28misinstance\u001b[39m(\u001b[38;5;28mself\u001b[39m\u001b[38;5;241m.\u001b[39mf, \u001b[38;5;28mstr\u001b[39m):\n\u001b[0;32m   1079\u001b[0m     \u001b[38;5;66;03m# if we are a string, try to dispatch\u001b[39;00m\n\u001b[0;32m   1080\u001b[0m     \u001b[38;5;28;01mreturn\u001b[39;00m \u001b[38;5;28mself\u001b[39m\u001b[38;5;241m.\u001b[39mapply_str()\n\u001b[1;32m-> 1082\u001b[0m \u001b[38;5;28;01mreturn\u001b[39;00m \u001b[38;5;28;43mself\u001b[39;49m\u001b[38;5;241;43m.\u001b[39;49m\u001b[43mapply_standard\u001b[49m\u001b[43m(\u001b[49m\u001b[43m)\u001b[49m\n",
      "File \u001b[1;32m~\\AppData\\Roaming\\Python\\Python310\\site-packages\\pandas\\core\\apply.py:1137\u001b[0m, in \u001b[0;36mSeriesApply.apply_standard\u001b[1;34m(self)\u001b[0m\n\u001b[0;32m   1131\u001b[0m         values \u001b[38;5;241m=\u001b[39m obj\u001b[38;5;241m.\u001b[39mastype(\u001b[38;5;28mobject\u001b[39m)\u001b[38;5;241m.\u001b[39m_values\n\u001b[0;32m   1132\u001b[0m         \u001b[38;5;66;03m# error: Argument 2 to \"map_infer\" has incompatible type\u001b[39;00m\n\u001b[0;32m   1133\u001b[0m         \u001b[38;5;66;03m# \"Union[Callable[..., Any], str, List[Union[Callable[..., Any], str]],\u001b[39;00m\n\u001b[0;32m   1134\u001b[0m         \u001b[38;5;66;03m# Dict[Hashable, Union[Union[Callable[..., Any], str],\u001b[39;00m\n\u001b[0;32m   1135\u001b[0m         \u001b[38;5;66;03m# List[Union[Callable[..., Any], str]]]]]\"; expected\u001b[39;00m\n\u001b[0;32m   1136\u001b[0m         \u001b[38;5;66;03m# \"Callable[[Any], Any]\"\u001b[39;00m\n\u001b[1;32m-> 1137\u001b[0m         mapped \u001b[38;5;241m=\u001b[39m \u001b[43mlib\u001b[49m\u001b[38;5;241;43m.\u001b[39;49m\u001b[43mmap_infer\u001b[49m\u001b[43m(\u001b[49m\n\u001b[0;32m   1138\u001b[0m \u001b[43m            \u001b[49m\u001b[43mvalues\u001b[49m\u001b[43m,\u001b[49m\n\u001b[0;32m   1139\u001b[0m \u001b[43m            \u001b[49m\u001b[43mf\u001b[49m\u001b[43m,\u001b[49m\u001b[43m  \u001b[49m\u001b[38;5;66;43;03m# type: ignore[arg-type]\u001b[39;49;00m\n\u001b[0;32m   1140\u001b[0m \u001b[43m            \u001b[49m\u001b[43mconvert\u001b[49m\u001b[38;5;241;43m=\u001b[39;49m\u001b[38;5;28;43mself\u001b[39;49m\u001b[38;5;241;43m.\u001b[39;49m\u001b[43mconvert_dtype\u001b[49m\u001b[43m,\u001b[49m\n\u001b[0;32m   1141\u001b[0m \u001b[43m        \u001b[49m\u001b[43m)\u001b[49m\n\u001b[0;32m   1143\u001b[0m \u001b[38;5;28;01mif\u001b[39;00m \u001b[38;5;28mlen\u001b[39m(mapped) \u001b[38;5;129;01mand\u001b[39;00m \u001b[38;5;28misinstance\u001b[39m(mapped[\u001b[38;5;241m0\u001b[39m], ABCSeries):\n\u001b[0;32m   1144\u001b[0m     \u001b[38;5;66;03m# GH#43986 Need to do list(mapped) in order to get treated as nested\u001b[39;00m\n\u001b[0;32m   1145\u001b[0m     \u001b[38;5;66;03m#  See also GH#25959 regarding EA support\u001b[39;00m\n\u001b[0;32m   1146\u001b[0m     \u001b[38;5;28;01mreturn\u001b[39;00m obj\u001b[38;5;241m.\u001b[39m_constructor_expanddim(\u001b[38;5;28mlist\u001b[39m(mapped), index\u001b[38;5;241m=\u001b[39mobj\u001b[38;5;241m.\u001b[39mindex)\n",
      "File \u001b[1;32m~\\AppData\\Roaming\\Python\\Python310\\site-packages\\pandas\\_libs\\lib.pyx:2870\u001b[0m, in \u001b[0;36mpandas._libs.lib.map_infer\u001b[1;34m()\u001b[0m\n",
      "Input \u001b[1;32mIn [217]\u001b[0m, in \u001b[0;36mconvertsalary\u001b[1;34m(salary)\u001b[0m\n\u001b[0;32m      2\u001b[0m Currency \u001b[38;5;241m=\u001b[39m salary[\u001b[38;5;241m0\u001b[39m] \n\u001b[0;32m      3\u001b[0m freq \u001b[38;5;241m=\u001b[39m salary\u001b[38;5;241m.\u001b[39msplit(\u001b[38;5;124m'\u001b[39m\u001b[38;5;124m/\u001b[39m\u001b[38;5;124m'\u001b[39m)[\u001b[38;5;241m-\u001b[39m\u001b[38;5;241m1\u001b[39m] \n\u001b[1;32m----> 4\u001b[0m csalary \u001b[38;5;241m=\u001b[39m \u001b[38;5;28;43mfloat\u001b[39;49m\u001b[43m(\u001b[49m\u001b[43msalary\u001b[49m\u001b[38;5;241;43m.\u001b[39;49m\u001b[43msplit\u001b[49m\u001b[43m(\u001b[49m\u001b[38;5;124;43m'\u001b[39;49m\u001b[38;5;124;43m/\u001b[39;49m\u001b[38;5;124;43m'\u001b[39;49m\u001b[43m)\u001b[49m\u001b[43m[\u001b[49m\u001b[38;5;241;43m0\u001b[39;49m\u001b[43m]\u001b[49m\u001b[43m[\u001b[49m\u001b[38;5;241;43m1\u001b[39;49m\u001b[43m:\u001b[49m\u001b[43m]\u001b[49m\u001b[38;5;241;43m.\u001b[39;49m\u001b[43mreplace\u001b[49m\u001b[43m(\u001b[49m\u001b[38;5;124;43m'\u001b[39;49m\u001b[38;5;124;43m,\u001b[39;49m\u001b[38;5;124;43m'\u001b[39;49m\u001b[43m,\u001b[49m\u001b[43m \u001b[49m\u001b[38;5;124;43m'\u001b[39;49m\u001b[38;5;124;43m'\u001b[39;49m\u001b[43m)\u001b[49m\u001b[38;5;241;43m.\u001b[39;49m\u001b[43mreplace\u001b[49m\u001b[43m(\u001b[49m\u001b[38;5;124;43m'\u001b[39;49m\u001b[38;5;124;43mFN\u001b[39;49m\u001b[38;5;124;43m'\u001b[39;49m\u001b[43m,\u001b[49m\u001b[43m \u001b[49m\u001b[38;5;124;43m'\u001b[39;49m\u001b[38;5;124;43m'\u001b[39;49m\u001b[43m)\u001b[49m\u001b[43m)\u001b[49m\n\u001b[0;32m      6\u001b[0m \u001b[38;5;28;01mif\u001b[39;00m Currency\u001b[38;5;241m==\u001b[39m\u001b[38;5;124m'\u001b[39m\u001b[38;5;124m$\u001b[39m\u001b[38;5;124m'\u001b[39m:\n\u001b[0;32m      7\u001b[0m     csalary\u001b[38;5;241m*\u001b[39m\u001b[38;5;241m=\u001b[39m\u001b[38;5;241m81\u001b[39m\n",
      "\u001b[1;31mValueError\u001b[0m: could not convert string to float: '£1674802'"
     ]
    }
   ],
   "source": [
    "df['Salary(in Rs/yr)']= df['Salary'].apply(convertsalary)\n",
    "df.drop('Salary', axis=1, inplace=True)"
   ]
  },
  {
   "cell_type": "code",
   "execution_count": null,
   "id": "6102963b",
   "metadata": {},
   "outputs": [],
   "source": [
    "\n"
   ]
  },
  {
   "cell_type": "code",
   "execution_count": null,
   "id": "8faa73ae",
   "metadata": {},
   "outputs": [],
   "source": []
  },
  {
   "cell_type": "code",
   "execution_count": null,
   "id": "11deafb6",
   "metadata": {},
   "outputs": [],
   "source": []
  }
 ],
 "metadata": {
  "kernelspec": {
   "display_name": "Python 3 (ipykernel)",
   "language": "python",
   "name": "python3"
  },
  "language_info": {
   "codemirror_mode": {
    "name": "ipython",
    "version": 3
   },
   "file_extension": ".py",
   "mimetype": "text/x-python",
   "name": "python",
   "nbconvert_exporter": "python",
   "pygments_lexer": "ipython3",
   "version": "3.10.5"
  }
 },
 "nbformat": 4,
 "nbformat_minor": 5
}
